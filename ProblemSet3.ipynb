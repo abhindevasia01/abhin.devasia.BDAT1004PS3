{
 "cells": [
  {
   "cell_type": "markdown",
   "id": "53ac97f0-74e8-4326-9162-7dcd378568ae",
   "metadata": {},
   "source": [
    "# Problem Set 3"
   ]
  },
  {
   "cell_type": "markdown",
   "id": "33caca09-a7b5-4db2-9aa4-32c2862f7f9f",
   "metadata": {},
   "source": [
    "## Question 1"
   ]
  },
  {
   "cell_type": "code",
   "execution_count": 1,
   "id": "21d54a8a-8656-4269-9f56-1ed77ce7d32d",
   "metadata": {},
   "outputs": [],
   "source": [
    "import pandas as pd"
   ]
  },
  {
   "cell_type": "code",
   "execution_count": 3,
   "id": "569e4dd3-1480-4232-b772-17dd85ca606d",
   "metadata": {},
   "outputs": [],
   "source": [
    "file_url = \"https://raw.githubusercontent.com/justmarkham/DAT8/master/data/u.user\""
   ]
  },
  {
   "cell_type": "code",
   "execution_count": 5,
   "id": "73d8e8ad-df74-4e72-bf7e-8bb0e2c6a4e6",
   "metadata": {},
   "outputs": [],
   "source": [
    "users = pd.read_csv(file_url, sep='|')"
   ]
  },
  {
   "cell_type": "markdown",
   "id": "c9798a36-e0c6-43da-b4e8-c10cde51bf8c",
   "metadata": {},
   "source": [
    "### Mean age per occupation"
   ]
  },
  {
   "cell_type": "code",
   "execution_count": 97,
   "id": "d235e438-a40e-4127-8234-79f6c427466e",
   "metadata": {},
   "outputs": [
    {
     "name": "stdout",
     "output_type": "stream",
     "text": [
      "Mean age per occupation is:\n",
      "       occupation   mean_age\n",
      "0   administrator  38.746835\n",
      "1          artist  31.392857\n",
      "2          doctor  43.571429\n",
      "3        educator  42.010526\n",
      "4        engineer  36.388060\n",
      "5   entertainment  29.222222\n",
      "6       executive  38.718750\n",
      "7      healthcare  41.562500\n",
      "8       homemaker  32.571429\n",
      "9          lawyer  36.750000\n",
      "10      librarian  40.000000\n",
      "11      marketing  37.615385\n",
      "12           none  26.555556\n",
      "13          other  34.523810\n",
      "14     programmer  33.121212\n",
      "15        retired  63.071429\n",
      "16       salesman  35.666667\n",
      "17      scientist  35.548387\n",
      "18        student  22.081633\n",
      "19     technician  33.148148\n",
      "20         writer  36.311111\n"
     ]
    }
   ],
   "source": [
    "mean_age=users.groupby('occupation')['age'].mean().reset_index()\n",
    "mean_age.columns=[\"occupation\",\"mean_age\"]\n",
    "print(f\"Mean age per occupation is:\\n{mean_age}\")"
   ]
  },
  {
   "cell_type": "markdown",
   "id": "7f8041e2-b946-4caf-9096-c63602e40a3b",
   "metadata": {},
   "source": [
    "###  Male ratio per occupation"
   ]
  },
  {
   "cell_type": "code",
   "execution_count": 95,
   "id": "64940e30-b0ec-428d-9832-df4135d6567c",
   "metadata": {},
   "outputs": [
    {
     "name": "stdout",
     "output_type": "stream",
     "text": [
      "The Male ratio per occupation sorted is: \n",
      "       occupation     ratio\n",
      "0          doctor  1.000000\n",
      "1        engineer  0.970149\n",
      "2      technician  0.962963\n",
      "3         retired  0.928571\n",
      "4      programmer  0.909091\n",
      "5       executive  0.906250\n",
      "6       scientist  0.903226\n",
      "7   entertainment  0.888889\n",
      "8          lawyer  0.833333\n",
      "9        salesman  0.750000\n",
      "10       educator  0.726316\n",
      "11        student  0.693878\n",
      "12          other  0.657143\n",
      "13      marketing  0.615385\n",
      "14         writer  0.577778\n",
      "15           none  0.555556\n",
      "16  administrator  0.544304\n",
      "17         artist  0.535714\n",
      "18      librarian  0.431373\n",
      "19     healthcare  0.312500\n",
      "20      homemaker  0.142857\n"
     ]
    }
   ],
   "source": [
    "male_users=users[users.gender == \"M\"].groupby('occupation')['gender'].count()\n",
    "m_f_users=users.groupby('occupation')['gender'].count()\n",
    "male_ratio=male_users/m_f_users\n",
    "sorted_male_ratio=male_ratio.sort_values(ascending=False).reset_index()\n",
    "sorted_male_ratio.columns=[\"occupation\", \"ratio\"]\n",
    "print(f\"The Male ratio per occupation sorted is: \\n{sorted_male_ratio}\")"
   ]
  },
  {
   "cell_type": "markdown",
   "id": "70024cb5-7eb3-4d5a-b842-5a86ab0c3eaa",
   "metadata": {},
   "source": [
    "###  Minimum and maximum ages per occupation"
   ]
  },
  {
   "cell_type": "code",
   "execution_count": 93,
   "id": "8116d8ce-12c0-457a-a7f3-5b80c216f3eb",
   "metadata": {},
   "outputs": [
    {
     "name": "stdout",
     "output_type": "stream",
     "text": [
      "The minimum and maximum ages per occupation is \n",
      "       occupation  min_age  max_age\n",
      "0   administrator       21       70\n",
      "1          artist       19       48\n",
      "2          doctor       28       64\n",
      "3        educator       23       63\n",
      "4        engineer       22       70\n",
      "5   entertainment       15       50\n",
      "6       executive       22       69\n",
      "7      healthcare       22       62\n",
      "8       homemaker       20       50\n",
      "9          lawyer       21       53\n",
      "10      librarian       23       69\n",
      "11      marketing       24       55\n",
      "12           none       11       55\n",
      "13          other       13       64\n",
      "14     programmer       20       63\n",
      "15        retired       51       73\n",
      "16       salesman       18       66\n",
      "17      scientist       23       55\n",
      "18        student        7       42\n",
      "19     technician       21       55\n",
      "20         writer       18       60\n"
     ]
    }
   ],
   "source": [
    "min_max_age_per_occ=users.groupby(\"occupation\")['age'].agg(['min','max']).reset_index()\n",
    "min_max_age_per_occ.columns = [\"occupation\", \"min_age\", \"max_age\"]\n",
    "print(f\"The minimum and maximum ages per occupation is \\n{min_max_age_per_occ}\")"
   ]
  },
  {
   "cell_type": "markdown",
   "id": "0a973f55-bd0f-4288-b727-dbee25abd7ee",
   "metadata": {},
   "source": [
    "###  Mean age for each combination of occupation and sex"
   ]
  },
  {
   "cell_type": "code",
   "execution_count": 91,
   "id": "1309662b-e210-49b1-91de-4735b5e06a9a",
   "metadata": {},
   "outputs": [
    {
     "name": "stdout",
     "output_type": "stream",
     "text": [
      "The mean age for each combination of occupation and sex is \n",
      "       occupation gender   mean_age\n",
      "0   administrator      F  40.638889\n",
      "1   administrator      M  37.162791\n",
      "2          artist      F  30.307692\n",
      "3          artist      M  32.333333\n",
      "4          doctor      M  43.571429\n",
      "5        educator      F  39.115385\n",
      "6        educator      M  43.101449\n",
      "7        engineer      F  29.500000\n",
      "8        engineer      M  36.600000\n",
      "9   entertainment      F  31.000000\n",
      "10  entertainment      M  29.000000\n",
      "11      executive      F  44.000000\n",
      "12      executive      M  38.172414\n",
      "13     healthcare      F  39.818182\n",
      "14     healthcare      M  45.400000\n",
      "15      homemaker      F  34.166667\n",
      "16      homemaker      M  23.000000\n",
      "17         lawyer      F  39.500000\n",
      "18         lawyer      M  36.200000\n",
      "19      librarian      F  40.000000\n",
      "20      librarian      M  40.000000\n",
      "21      marketing      F  37.200000\n",
      "22      marketing      M  37.875000\n",
      "23           none      F  36.500000\n",
      "24           none      M  18.600000\n",
      "25          other      F  35.472222\n",
      "26          other      M  34.028986\n",
      "27     programmer      F  32.166667\n",
      "28     programmer      M  33.216667\n",
      "29        retired      F  70.000000\n",
      "30        retired      M  62.538462\n",
      "31       salesman      F  27.000000\n",
      "32       salesman      M  38.555556\n",
      "33      scientist      F  28.333333\n",
      "34      scientist      M  36.321429\n",
      "35        student      F  20.750000\n",
      "36        student      M  22.669118\n",
      "37     technician      F  38.000000\n",
      "38     technician      M  32.961538\n",
      "39         writer      F  37.631579\n",
      "40         writer      M  35.346154\n"
     ]
    }
   ],
   "source": [
    "mean_age_with_sex=users.groupby([\"occupation\",\"gender\"])[\"age\"].mean().reset_index()\n",
    "mean_age_with_sex.columns = [\"occupation\", \"gender\", \"mean_age\"]\n",
    "print(f\"The mean age for each combination of occupation and sex is \\n{mean_age_with_sex}\")"
   ]
  },
  {
   "cell_type": "markdown",
   "id": "0b833e9d-e4de-467f-8269-fd8d8c97d11e",
   "metadata": {},
   "source": [
    "### Percentage of women and men per occupation"
   ]
  },
  {
   "cell_type": "code",
   "execution_count": 166,
   "id": "6e66147e-4c56-4f03-9696-45c34c6df10f",
   "metadata": {},
   "outputs": [
    {
     "name": "stdout",
     "output_type": "stream",
     "text": [
      "The percentage of women and men per occupation \n",
      "gender                 F           M\n",
      "occupation                          \n",
      "administrator  45.569620   54.430380\n",
      "artist         46.428571   53.571429\n",
      "doctor          0.000000  100.000000\n",
      "educator       27.368421   72.631579\n",
      "engineer        2.985075   97.014925\n",
      "entertainment  11.111111   88.888889\n",
      "executive       9.375000   90.625000\n",
      "healthcare     68.750000   31.250000\n",
      "homemaker      85.714286   14.285714\n",
      "lawyer         16.666667   83.333333\n",
      "librarian      56.862745   43.137255\n",
      "marketing      38.461538   61.538462\n",
      "none           44.444444   55.555556\n",
      "other          34.285714   65.714286\n",
      "programmer      9.090909   90.909091\n",
      "retired         7.142857   92.857143\n",
      "salesman       25.000000   75.000000\n",
      "scientist       9.677419   90.322581\n",
      "student        30.612245   69.387755\n",
      "technician      3.703704   96.296296\n",
      "writer         42.222222   57.777778\n"
     ]
    }
   ],
   "source": [
    "percentage_gender_per_occupation = users.groupby(['occupation', 'gender']).size().unstack(fill_value=0)\n",
    "percentage_gender_per_occupation = percentage_gender_per_occupation.div(percentage_gender_per_occupation.sum(axis=1), axis=0) * 100\n",
    "print(f\"The percentage of women and men per occupation \\n{percentage_gender_per_occupation}\")"
   ]
  },
  {
   "cell_type": "markdown",
   "id": "39a249c0-4f76-4351-afab-0959e7aa517d",
   "metadata": {},
   "source": [
    "## Question 2"
   ]
  },
  {
   "cell_type": "code",
   "execution_count": 297,
   "id": "f99a3b91-b0ce-4159-8919-3dbd30049e95",
   "metadata": {},
   "outputs": [],
   "source": [
    "import pandas as pd\n",
    "import numpy as np"
   ]
  },
  {
   "cell_type": "code",
   "execution_count": 173,
   "id": "abbbea54-4282-4891-bdb0-e0e5754d8f79",
   "metadata": {},
   "outputs": [],
   "source": [
    "url=\"https://raw.githubusercontent.com/guipsamora/pandas_exercises/master/02_Filtering_%26_Sorting/Euro12/Euro_2012_stats_TEAM.csv\"\n",
    "euro12=pd.read_csv(url)"
   ]
  },
  {
   "cell_type": "markdown",
   "id": "5649bab7-fa02-46d4-be48-5f4b568258f7",
   "metadata": {},
   "source": [
    "### The goals column"
   ]
  },
  {
   "cell_type": "code",
   "execution_count": 194,
   "id": "641d0d45-f69c-438a-87d5-18298b148ed5",
   "metadata": {},
   "outputs": [
    {
     "name": "stdout",
     "output_type": "stream",
     "text": [
      "The goals column is:\n",
      "0      4\n",
      "1      4\n",
      "2      4\n",
      "3      5\n",
      "4      3\n",
      "5     10\n",
      "6      5\n",
      "7      6\n",
      "8      2\n",
      "9      2\n",
      "10     6\n",
      "11     1\n",
      "12     5\n",
      "13    12\n",
      "14     5\n",
      "15     2\n",
      "Name: Goals, dtype: int64\n"
     ]
    }
   ],
   "source": [
    "goals=euro12[\"Goals\"]\n",
    "print(f\"The goals column is:\\n{goals}\")"
   ]
  },
  {
   "cell_type": "markdown",
   "id": "ce48948c-e987-43a6-847c-fb763d1d650e",
   "metadata": {},
   "source": [
    "### Teams participated in Euro2012"
   ]
  },
  {
   "cell_type": "code",
   "execution_count": 221,
   "id": "0dd88e00-9ee1-4c44-a95d-068de093b00d",
   "metadata": {},
   "outputs": [
    {
     "name": "stdout",
     "output_type": "stream",
     "text": [
      "The number of teams that participated in Euro 2012 is: \n",
      "16\n"
     ]
    }
   ],
   "source": [
    "team_count=euro12['Team'].nunique()\n",
    "print(f\"The number of teams that participated in Euro 2012 is: \\n{team_count}\")"
   ]
  },
  {
   "cell_type": "markdown",
   "id": "1459b66d-2d61-41e2-8db6-1648afd17146",
   "metadata": {},
   "source": [
    "### The number of columns in the dataset"
   ]
  },
  {
   "cell_type": "code",
   "execution_count": 232,
   "id": "a0f7fb74-6bc8-4d0c-be27-eb0f483a5df3",
   "metadata": {},
   "outputs": [
    {
     "name": "stdout",
     "output_type": "stream",
     "text": [
      "The number of columns is: \n",
      "35\n"
     ]
    }
   ],
   "source": [
    "col_num=euro12.shape[1]\n",
    "print(f\"The number of columns is: \\n{col_num}\")"
   ]
  },
  {
   "cell_type": "markdown",
   "id": "4d7ed101-9b1c-4e35-89b8-43d56c501345",
   "metadata": {},
   "source": [
    "### Yellow Cards and Red Cards per team"
   ]
  },
  {
   "cell_type": "code",
   "execution_count": 244,
   "id": "cff8b98d-9c92-4bfb-accf-ab3aa648470b",
   "metadata": {},
   "outputs": [
    {
     "name": "stdout",
     "output_type": "stream",
     "text": [
      "Yellow Cards and Red Cards per team: \n",
      "                   Team  Yellow Cards  Red Cards\n",
      "0               Croatia             9          0\n",
      "1        Czech Republic             7          0\n",
      "2               Denmark             4          0\n",
      "3               England             5          0\n",
      "4                France             6          0\n",
      "5               Germany             4          0\n",
      "6                Greece             9          1\n",
      "7                 Italy            16          0\n",
      "8           Netherlands             5          0\n",
      "9                Poland             7          1\n",
      "10             Portugal            12          0\n",
      "11  Republic of Ireland             6          1\n",
      "12               Russia             6          0\n",
      "13                Spain            11          0\n",
      "14               Sweden             7          0\n",
      "15              Ukraine             5          0\n"
     ]
    }
   ],
   "source": [
    "discipline=euro12[['Team','Yellow Cards','Red Cards']]\n",
    "print(f\"Yellow Cards and Red Cards per team: \\n{discipline}\")"
   ]
  },
  {
   "cell_type": "markdown",
   "id": "711b9abc-618f-4bdd-b128-8cceb0c6b900",
   "metadata": {},
   "source": [
    "### Sort team by Red Cards, then to Yellow Cards"
   ]
  },
  {
   "cell_type": "code",
   "execution_count": 276,
   "id": "2430ded4-e247-48ba-bcc9-ec1cf860ee68",
   "metadata": {},
   "outputs": [
    {
     "name": "stdout",
     "output_type": "stream",
     "text": [
      "Sorted team by Red Cards, then to Yellow Cards is: \n",
      "                   Team  Yellow Cards  Red Cards\n",
      "2               Denmark             4          0\n",
      "5               Germany             4          0\n",
      "3               England             5          0\n",
      "8           Netherlands             5          0\n",
      "15              Ukraine             5          0\n",
      "4                France             6          0\n",
      "12               Russia             6          0\n",
      "1        Czech Republic             7          0\n",
      "14               Sweden             7          0\n",
      "0               Croatia             9          0\n",
      "13                Spain            11          0\n",
      "10             Portugal            12          0\n",
      "7                 Italy            16          0\n",
      "11  Republic of Ireland             6          1\n",
      "9                Poland             7          1\n",
      "6                Greece             9          1\n"
     ]
    }
   ],
   "source": [
    "discipline_sorted = discipline.sort_values(by=['Red Cards', 'Yellow Cards'],ascending=[True, True])\n",
    "print(f\"Sorted team by Red Cards, then to Yellow Cards is: \\n{discipline_sorted}\")"
   ]
  },
  {
   "cell_type": "markdown",
   "id": "e1c57c11-4088-41d1-8703-67d2ea07b647",
   "metadata": {},
   "source": [
    "###  Mean Yellow Cards given per Team"
   ]
  },
  {
   "cell_type": "code",
   "execution_count": 270,
   "id": "a98241a6-3f1f-4251-8fdc-b50d4d7ddf61",
   "metadata": {},
   "outputs": [
    {
     "name": "stdout",
     "output_type": "stream",
     "text": [
      "The  mean Yellow Cards given per team is: \n",
      "7.4375\n"
     ]
    }
   ],
   "source": [
    "mean_yellow_cards = discipline['Yellow Cards'].mean()\n",
    "print(f\"The  mean Yellow Cards given per team is: \\n{mean_yellow_cards}\")"
   ]
  },
  {
   "cell_type": "markdown",
   "id": "30ed3f2e-e732-432f-8e37-f4c3ed07863e",
   "metadata": {},
   "source": [
    "### Teams that scored more than 6 goals"
   ]
  },
  {
   "cell_type": "code",
   "execution_count": 282,
   "id": "6dac5ded-6629-4689-a8bb-a430d63582c2",
   "metadata": {},
   "outputs": [
    {
     "name": "stdout",
     "output_type": "stream",
     "text": [
      "teams that scored more than 6 goals is: \n",
      "       Team  Goals\n",
      "5   Germany     10\n",
      "13    Spain     12\n"
     ]
    }
   ],
   "source": [
    "teams_more_than_6_goals = euro12[euro12['Goals'] > 6]\n",
    "print(f\"teams that scored more than 6 goals is: \\n{teams_more_than_6_goals[['Team', 'Goals']]}\")"
   ]
  },
  {
   "cell_type": "markdown",
   "id": "5c732f7d-76b8-457e-85b2-99df313f271b",
   "metadata": {},
   "source": [
    "### Teams that starts with G"
   ]
  },
  {
   "cell_type": "code",
   "execution_count": 285,
   "id": "a8de914d-b8c2-400b-b35f-adfdd0a87374",
   "metadata": {},
   "outputs": [
    {
     "name": "stdout",
     "output_type": "stream",
     "text": [
      "teams that starts with G is: \n",
      "      Team\n",
      "5  Germany\n",
      "6   Greece\n"
     ]
    }
   ],
   "source": [
    "teams_start_with_g = euro12[euro12['Team'].str.startswith('G')]\n",
    "print(f\"teams that starts with G is: \\n{teams_start_with_g[['Team']]}\")"
   ]
  },
  {
   "cell_type": "markdown",
   "id": "d2f5fa59-f314-4e5e-86e5-4d82d3e7a388",
   "metadata": {},
   "source": [
    "### First seven columns are"
   ]
  },
  {
   "cell_type": "code",
   "execution_count": 288,
   "id": "15753c64-8035-48df-8333-db820d75a886",
   "metadata": {},
   "outputs": [
    {
     "name": "stdout",
     "output_type": "stream",
     "text": [
      "The first 7 columns are: \n",
      "                   Team  Goals  Shots on target  Shots off target  \\\n",
      "0               Croatia      4               13                12   \n",
      "1        Czech Republic      4               13                18   \n",
      "2               Denmark      4               10                10   \n",
      "3               England      5               11                18   \n",
      "4                France      3               22                24   \n",
      "5               Germany     10               32                32   \n",
      "6                Greece      5                8                18   \n",
      "7                 Italy      6               34                45   \n",
      "8           Netherlands      2               12                36   \n",
      "9                Poland      2               15                23   \n",
      "10             Portugal      6               22                42   \n",
      "11  Republic of Ireland      1                7                12   \n",
      "12               Russia      5                9                31   \n",
      "13                Spain     12               42                33   \n",
      "14               Sweden      5               17                19   \n",
      "15              Ukraine      2                7                26   \n",
      "\n",
      "   Shooting Accuracy % Goals-to-shots  Total shots (inc. Blocked)  \n",
      "0              51.9%            16.0%                          32  \n",
      "1              41.9%            12.9%                          39  \n",
      "2              50.0%            20.0%                          27  \n",
      "3              50.0%            17.2%                          40  \n",
      "4              37.9%             6.5%                          65  \n",
      "5              47.8%            15.6%                          80  \n",
      "6              30.7%            19.2%                          32  \n",
      "7              43.0%             7.5%                         110  \n",
      "8              25.0%             4.1%                          60  \n",
      "9              39.4%             5.2%                          48  \n",
      "10             34.3%             9.3%                          82  \n",
      "11             36.8%             5.2%                          28  \n",
      "12             22.5%            12.5%                          59  \n",
      "13             55.9%            16.0%                         100  \n",
      "14             47.2%            13.8%                          39  \n",
      "15             21.2%             6.0%                          38  \n"
     ]
    }
   ],
   "source": [
    "first_7_columns=euro12.iloc[:,:7]\n",
    "print(f\"The first 7 columns are: \\n{first_7_columns}\")"
   ]
  },
  {
   "cell_type": "markdown",
   "id": "4809be93-3d92-4e17-88d0-39ca1e9466d1",
   "metadata": {},
   "source": [
    "### All columns except the last 3 columns"
   ]
  },
  {
   "cell_type": "code",
   "execution_count": 291,
   "id": "c7e9123f-7d5a-4106-9978-12a5c4358bc3",
   "metadata": {},
   "outputs": [
    {
     "name": "stdout",
     "output_type": "stream",
     "text": [
      "All but last 3 columns are: \n",
      "                   Team  Goals  Shots on target  Shots off target  \\\n",
      "0               Croatia      4               13                12   \n",
      "1        Czech Republic      4               13                18   \n",
      "2               Denmark      4               10                10   \n",
      "3               England      5               11                18   \n",
      "4                France      3               22                24   \n",
      "5               Germany     10               32                32   \n",
      "6                Greece      5                8                18   \n",
      "7                 Italy      6               34                45   \n",
      "8           Netherlands      2               12                36   \n",
      "9                Poland      2               15                23   \n",
      "10             Portugal      6               22                42   \n",
      "11  Republic of Ireland      1                7                12   \n",
      "12               Russia      5                9                31   \n",
      "13                Spain     12               42                33   \n",
      "14               Sweden      5               17                19   \n",
      "15              Ukraine      2                7                26   \n",
      "\n",
      "   Shooting Accuracy % Goals-to-shots  Total shots (inc. Blocked)  \\\n",
      "0              51.9%            16.0%                          32   \n",
      "1              41.9%            12.9%                          39   \n",
      "2              50.0%            20.0%                          27   \n",
      "3              50.0%            17.2%                          40   \n",
      "4              37.9%             6.5%                          65   \n",
      "5              47.8%            15.6%                          80   \n",
      "6              30.7%            19.2%                          32   \n",
      "7              43.0%             7.5%                         110   \n",
      "8              25.0%             4.1%                          60   \n",
      "9              39.4%             5.2%                          48   \n",
      "10             34.3%             9.3%                          82   \n",
      "11             36.8%             5.2%                          28   \n",
      "12             22.5%            12.5%                          59   \n",
      "13             55.9%            16.0%                         100   \n",
      "14             47.2%            13.8%                          39   \n",
      "15             21.2%             6.0%                          38   \n",
      "\n",
      "    Hit Woodwork  Penalty goals  Penalties not scored  ...  Clean Sheets  \\\n",
      "0              0              0                     0  ...             0   \n",
      "1              0              0                     0  ...             1   \n",
      "2              1              0                     0  ...             1   \n",
      "3              0              0                     0  ...             2   \n",
      "4              1              0                     0  ...             1   \n",
      "5              2              1                     0  ...             1   \n",
      "6              1              1                     1  ...             1   \n",
      "7              2              0                     0  ...             2   \n",
      "8              2              0                     0  ...             0   \n",
      "9              0              0                     0  ...             0   \n",
      "10             6              0                     0  ...             2   \n",
      "11             0              0                     0  ...             0   \n",
      "12             2              0                     0  ...             0   \n",
      "13             0              1                     0  ...             5   \n",
      "14             3              0                     0  ...             1   \n",
      "15             0              0                     0  ...             0   \n",
      "\n",
      "    Blocks  Goals conceded Saves made  Saves-to-shots ratio  Fouls Won  \\\n",
      "0       10               3         13                 81.3%         41   \n",
      "1       10               6          9                 60.1%         53   \n",
      "2       10               5         10                 66.7%         25   \n",
      "3       29               3         22                 88.1%         43   \n",
      "4        7               5          6                 54.6%         36   \n",
      "5       11               6         10                 62.6%         63   \n",
      "6       23               7         13                 65.1%         67   \n",
      "7       18               7         20                 74.1%        101   \n",
      "8        9               5         12                 70.6%         35   \n",
      "9        8               3          6                 66.7%         48   \n",
      "10      11               4         10                 71.5%         73   \n",
      "11      23               9         17                 65.4%         43   \n",
      "12       8               3         10                 77.0%         34   \n",
      "13       8               1         15                 93.8%        102   \n",
      "14      12               5          8                 61.6%         35   \n",
      "15       4               4         13                 76.5%         48   \n",
      "\n",
      "    Fouls Conceded  Offsides  Yellow Cards  Red Cards  \n",
      "0               62         2             9          0  \n",
      "1               73         8             7          0  \n",
      "2               38         8             4          0  \n",
      "3               45         6             5          0  \n",
      "4               51         5             6          0  \n",
      "5               49        12             4          0  \n",
      "6               48        12             9          1  \n",
      "7               89        16            16          0  \n",
      "8               30         3             5          0  \n",
      "9               56         3             7          1  \n",
      "10              90        10            12          0  \n",
      "11              51        11             6          1  \n",
      "12              43         4             6          0  \n",
      "13              83        19            11          0  \n",
      "14              51         7             7          0  \n",
      "15              31         4             5          0  \n",
      "\n",
      "[16 rows x 32 columns]\n"
     ]
    }
   ],
   "source": [
    "all_but_last_3 = euro12.iloc[:, :-3]\n",
    "print(f\"All but last 3 columns are: \\n{all_but_last_3}\")"
   ]
  },
  {
   "cell_type": "markdown",
   "id": "43c91dcc-b683-400b-a90d-7bc9fc1ffd39",
   "metadata": {},
   "source": [
    "###  Shooting Accuracy from England, Italy and Russia"
   ]
  },
  {
   "cell_type": "code",
   "execution_count": 294,
   "id": "06b2893f-c749-4ea0-92f7-2126aec0f379",
   "metadata": {},
   "outputs": [
    {
     "name": "stdout",
     "output_type": "stream",
     "text": [
      "The  Shooting Accuracy from England, Italy and Russia are: \n",
      "       Team Shooting Accuracy\n",
      "3   England             50.0%\n",
      "7     Italy             43.0%\n",
      "12   Russia             22.5%\n"
     ]
    }
   ],
   "source": [
    "shooting_accuracy = euro12[euro12['Team'].isin(['England', 'Italy', 'Russia'])][['Team', 'Shooting Accuracy']]\n",
    "print(f\"The  Shooting Accuracy from England, Italy and Russia are: \\n{shooting_accuracy}\")"
   ]
  },
  {
   "cell_type": "markdown",
   "id": "30a1ff30-dcb3-4996-abdf-6382e64b2920",
   "metadata": {},
   "source": [
    "## Question 3"
   ]
  },
  {
   "cell_type": "code",
   "execution_count": 299,
   "id": "650d3d07-da40-49ae-a0ea-a42eb1881a71",
   "metadata": {},
   "outputs": [],
   "source": [
    "import pandas as pd\n",
    "import numpy as np"
   ]
  },
  {
   "cell_type": "markdown",
   "id": "50e9bb5d-2316-45b7-8303-dcab02f8dd08",
   "metadata": {},
   "source": [
    "### Create 3 different Series, each of length 100"
   ]
  },
  {
   "cell_type": "code",
   "execution_count": 308,
   "id": "53a4ff90-b0ef-4a96-94fd-528b1f3e61aa",
   "metadata": {},
   "outputs": [],
   "source": [
    "series1 = pd.Series(np.random.randint(1, 5, size=100))\n",
    "series2 = pd.Series(np.random.randint(1, 4, size=100))\n",
    "series3 = pd.Series(np.random.randint(10000, 30001, size=100))"
   ]
  },
  {
   "cell_type": "markdown",
   "id": "505634d7-ac6e-4a71-8e66-0c23dcf78713",
   "metadata": {},
   "source": [
    "### Create a DataFrame by joinning the Series by column"
   ]
  },
  {
   "cell_type": "code",
   "execution_count": 328,
   "id": "18abfdcd-10f6-4572-889b-014fca913308",
   "metadata": {},
   "outputs": [
    {
     "name": "stdout",
     "output_type": "stream",
     "text": [
      "the dataframe is\n",
      "    col1  col2   col3\n",
      "0      1     2  28334\n",
      "1      3     3  26626\n",
      "2      3     3  22628\n",
      "3      3     2  15397\n",
      "4      1     3  25901\n",
      "..   ...   ...    ...\n",
      "95     1     1  28748\n",
      "96     3     3  20450\n",
      "97     2     3  17509\n",
      "98     3     1  14724\n",
      "99     2     2  12925\n",
      "\n",
      "[100 rows x 3 columns]\n"
     ]
    }
   ],
   "source": [
    "df = pd.DataFrame({ \n",
    "    'col1': series1, \n",
    "    'col2': series2, \n",
    "    'col3': series3 })\n",
    "print(\"the dataframe is\")\n",
    "print(df)"
   ]
  },
  {
   "cell_type": "markdown",
   "id": "acc5b71c-a3f1-4c47-ba0e-2489f214f65e",
   "metadata": {},
   "source": [
    "### Change the name of the columns to bedrs, bathrs, price_sqr_meter"
   ]
  },
  {
   "cell_type": "code",
   "execution_count": 330,
   "id": "b222837d-87fe-4293-8ac6-66b183d019af",
   "metadata": {},
   "outputs": [
    {
     "name": "stdout",
     "output_type": "stream",
     "text": [
      "the dataframe is\n",
      "    bedrs  bathrs  price_sqr_meter\n",
      "0       1       2            28334\n",
      "1       3       3            26626\n",
      "2       3       3            22628\n",
      "3       3       2            15397\n",
      "4       1       3            25901\n",
      "..    ...     ...              ...\n",
      "95      1       1            28748\n",
      "96      3       3            20450\n",
      "97      2       3            17509\n",
      "98      3       1            14724\n",
      "99      2       2            12925\n",
      "\n",
      "[100 rows x 3 columns]\n"
     ]
    }
   ],
   "source": [
    "df.columns=['bedrs','bathrs','price_sqr_meter']\n",
    "print(\"the dataframe is\")\n",
    "print(df)"
   ]
  },
  {
   "cell_type": "markdown",
   "id": "bc9e57da-a667-437d-ab2b-d1098e5e8330",
   "metadata": {},
   "source": [
    "### Create a one column DataFrame with the values of the 3 Series and assign it \n",
    "t 'bigcolumn"
   ]
  },
  {
   "cell_type": "code",
   "execution_count": 337,
   "id": "ab56ad72-01f2-491d-bb4d-8ebc45cab9e8",
   "metadata": {},
   "outputs": [
    {
     "name": "stdout",
     "output_type": "stream",
     "text": [
      "the one column dataframe is :\n",
      "     bigcolumn\n",
      "0            1\n",
      "1            3\n",
      "2            3\n",
      "3            3\n",
      "4            1\n",
      "..         ...\n",
      "295      28748\n",
      "296      20450\n",
      "297      17509\n",
      "298      14724\n",
      "299      12925\n",
      "\n",
      "[300 rows x 1 columns]\n"
     ]
    }
   ],
   "source": [
    "bigcolumn = pd.concat([series1, series2, series3], axis=0).reset_index(drop=True).to_frame(name='bigcolumn')\n",
    "print(\"the one column dataframe is :\")\n",
    "print(bigcolumn)"
   ]
  },
  {
   "cell_type": "markdown",
   "id": "345e4c03-c7af-4563-850c-02e1bcfcb1d2",
   "metadata": {},
   "source": [
    "### Does the DataFrame go only until index 99? "
   ]
  },
  {
   "cell_type": "code",
   "execution_count": 342,
   "id": "104aeefa-75ea-46be-9b86-1587d3c047b8",
   "metadata": {},
   "outputs": [
    {
     "name": "stdout",
     "output_type": "stream",
     "text": [
      "Does the DataFrame go only until index 99? \n",
      "False\n"
     ]
    }
   ],
   "source": [
    "max_index = bigcolumn.index.max()\n",
    "print(f\"Does the DataFrame go only until index 99? \\n{max_index == 99}\")"
   ]
  },
  {
   "cell_type": "markdown",
   "id": "366b2952-f1f0-47e1-861f-e3377ec3219c",
   "metadata": {},
   "source": [
    "### Reindex the DataFrame so it goes from 0 to 299"
   ]
  },
  {
   "cell_type": "code",
   "execution_count": 346,
   "id": "75e47941-ac0b-4a01-99b1-2a5135ec0192",
   "metadata": {},
   "outputs": [
    {
     "name": "stdout",
     "output_type": "stream",
     "text": [
      "Reindexed DataFrame:\n",
      "     bigcolumn\n",
      "0            1\n",
      "1            3\n",
      "2            3\n",
      "3            3\n",
      "4            1\n",
      "..         ...\n",
      "295      28748\n",
      "296      20450\n",
      "297      17509\n",
      "298      14724\n",
      "299      12925\n",
      "\n",
      "[300 rows x 1 columns]\n"
     ]
    }
   ],
   "source": [
    "bigcolumn = bigcolumn.reindex(range(300)).reset_index(drop=True)\n",
    "print(\"Reindexed DataFrame:\")\n",
    "print(bigcolumn)"
   ]
  },
  {
   "cell_type": "markdown",
   "id": "a1652316-632d-4bb1-8a7c-319f6c731173",
   "metadata": {},
   "source": [
    "# Question 4"
   ]
  },
  {
   "cell_type": "code",
   "execution_count": 349,
   "id": "fc3d93c0-0e6a-4da9-8935-7e1d6c10ffd9",
   "metadata": {},
   "outputs": [],
   "source": [
    "import pandas as pd\n",
    "import numpy as np"
   ]
  },
  {
   "cell_type": "code",
   "execution_count": 415,
   "id": "deeab685-3a52-4695-be42-94622edf0679",
   "metadata": {},
   "outputs": [
    {
     "name": "stdout",
     "output_type": "stream",
     "text": [
      "The imported file is:    Yr  Mo  Dy    RPT    VAL    ROS    KIL    SHA   BIR    DUB    CLA    MUL  \\\n",
      "0  61   1   1  15.04  14.96  13.17   9.29    NaN  9.87  13.67  10.25  10.83   \n",
      "1  61   1   2  14.71    NaN  10.83   6.50  12.62  7.67  11.50  10.04   9.79   \n",
      "2  61   1   3  18.50  16.88  12.33  10.13  11.17  6.17  11.25    NaN   8.50   \n",
      "3  61   1   4  10.58   6.63  11.75   4.58   4.54  2.88   8.63   1.79   5.83   \n",
      "4  61   1   5  13.33  13.25  11.42   6.17  10.71  8.21  11.92   6.54  10.92   \n",
      "\n",
      "     CLO    BEL    MAL  \n",
      "0  12.58  18.50  15.04  \n",
      "1   9.67  17.54  13.83  \n",
      "2   7.67  12.75  12.71  \n",
      "3   5.88   5.46  10.88  \n",
      "4  10.34  12.92  11.83  \n"
     ]
    }
   ],
   "source": [
    "data = pd.read_csv('wind.txt', sep=r'\\s+')\n",
    "print(f\"The imported file is: {data.head()}\")"
   ]
  },
  {
   "cell_type": "code",
   "execution_count": 417,
   "id": "c7e503e2-dd7c-4438-a119-039b596d7ca4",
   "metadata": {},
   "outputs": [
    {
     "name": "stdout",
     "output_type": "stream",
     "text": [
      "              RPT    VAL    ROS    KIL    SHA    BIR    DUB    CLA    MUL  \\\n",
      "Date                                                                        \n",
      "1961-01-01  15.04  14.96  13.17   9.29    NaN   9.87  13.67  10.25  10.83   \n",
      "1961-01-02  14.71    NaN  10.83   6.50  12.62   7.67  11.50  10.04   9.79   \n",
      "1961-01-03  18.50  16.88  12.33  10.13  11.17   6.17  11.25    NaN   8.50   \n",
      "1961-01-04  10.58   6.63  11.75   4.58   4.54   2.88   8.63   1.79   5.83   \n",
      "1961-01-05  13.33  13.25  11.42   6.17  10.71   8.21  11.92   6.54  10.92   \n",
      "...           ...    ...    ...    ...    ...    ...    ...    ...    ...   \n",
      "1978-12-27  17.58  16.96  17.62   8.08  13.21  11.67  14.46  15.59  14.04   \n",
      "1978-12-28  13.21   5.46  13.46   5.00   8.12   9.42  14.33  16.25  15.25   \n",
      "1978-12-29  14.00  10.29  14.42   8.71   9.71  10.54  19.17  12.46  14.50   \n",
      "1978-12-30  18.50  14.04  21.29   9.13  12.75   9.71  18.08  12.87  12.46   \n",
      "1978-12-31  20.33  17.41  27.29   9.59  12.08  10.13  19.25  11.63  11.58   \n",
      "\n",
      "              CLO    BEL    MAL  \n",
      "Date                             \n",
      "1961-01-01  12.58  18.50  15.04  \n",
      "1961-01-02   9.67  17.54  13.83  \n",
      "1961-01-03   7.67  12.75  12.71  \n",
      "1961-01-04   5.88   5.46  10.88  \n",
      "1961-01-05  10.34  12.92  11.83  \n",
      "...           ...    ...    ...  \n",
      "1978-12-27  14.00  17.21  40.08  \n",
      "1978-12-28  18.05  21.79  41.46  \n",
      "1978-12-29  16.42  18.88  29.58  \n",
      "1978-12-30  12.12  14.67  28.79  \n",
      "1978-12-31  11.38  12.08  22.08  \n",
      "\n",
      "[6574 rows x 12 columns]\n"
     ]
    }
   ],
   "source": [
    "data['Date'] = pd.to_datetime({'year': data['Yr'] + 1900, 'month': data['Mo'], 'day': data['Dy']})\n",
    "data = data.drop(['Yr', 'Mo', 'Dy'], axis=1)\n",
    "data.set_index('Date', inplace=True)\n",
    "print(data)"
   ]
  },
  {
   "cell_type": "code",
   "execution_count": 419,
   "id": "f06ecc94-6e82-4cb8-af93-e00be267922f",
   "metadata": {},
   "outputs": [],
   "source": [
    "def fix_year(year):\n",
    "    if year > 2024:\n",
    "        return year - 100\n",
    "    return year\n",
    "\n",
    "data.index = data.index.map(lambda x: x.replace(year=fix_year(x.year)))"
   ]
  },
  {
   "cell_type": "code",
   "execution_count": 425,
   "id": "52aa5911-3e24-4ef4-ae36-aecef4ea99b6",
   "metadata": {},
   "outputs": [
    {
     "name": "stdout",
     "output_type": "stream",
     "text": [
      "datetime64[ns]\n"
     ]
    }
   ],
   "source": [
    "print(data.index.dtype) "
   ]
  },
  {
   "cell_type": "code",
   "execution_count": 427,
   "id": "7061240b-4e4c-45e8-9854-b72c8d4eae54",
   "metadata": {},
   "outputs": [
    {
     "name": "stdout",
     "output_type": "stream",
     "text": [
      "Missing values per location:\n",
      "RPT    6\n",
      "VAL    3\n",
      "ROS    2\n",
      "KIL    5\n",
      "SHA    2\n",
      "BIR    0\n",
      "DUB    3\n",
      "CLA    2\n",
      "MUL    3\n",
      "CLO    1\n",
      "BEL    0\n",
      "MAL    4\n",
      "dtype: int64\n"
     ]
    }
   ],
   "source": [
    "missing_values = data.isnull().sum()\n",
    "print(\"Missing values per location:\")\n",
    "print(missing_values)"
   ]
  },
  {
   "cell_type": "code",
   "execution_count": 429,
   "id": "4af610a0-7ed0-43c5-a2aa-44d485efc5b7",
   "metadata": {},
   "outputs": [
    {
     "name": "stdout",
     "output_type": "stream",
     "text": [
      "Total non-missing values: 78857\n"
     ]
    }
   ],
   "source": [
    "non_missing_values = data.notnull().sum().sum()\n",
    "print(f\"Total non-missing values: {non_missing_values}\")"
   ]
  },
  {
   "cell_type": "code",
   "execution_count": 431,
   "id": "afae4c6c-449d-4761-b9e5-4d496bc90e61",
   "metadata": {},
   "outputs": [
    {
     "name": "stdout",
     "output_type": "stream",
     "text": [
      "Mean windspeed: 10.227982360836938\n"
     ]
    }
   ],
   "source": [
    "mean_windspeed = data.mean().mean()\n",
    "print(f\"Mean windspeed: {mean_windspeed}\")"
   ]
  },
  {
   "cell_type": "code",
   "execution_count": 435,
   "id": "2d53f3f7-b020-4ace-a7e1-4c32ab9e67b2",
   "metadata": {},
   "outputs": [
    {
     "name": "stdout",
     "output_type": "stream",
     "text": [
      "Location Statistics:\n",
      "      min    max       mean       std\n",
      "RPT  0.67  35.80  12.362987  5.618413\n",
      "VAL  0.21  33.37  10.644314  5.267356\n",
      "ROS  1.50  33.84  11.660526  5.008450\n",
      "KIL  0.00  28.46   6.306468  3.605811\n",
      "SHA  0.13  37.54  10.455834  4.936125\n",
      "BIR  0.00  26.16   7.092254  3.968683\n",
      "DUB  0.00  30.37   9.797343  4.977555\n",
      "CLA  0.00  31.08   8.495053  4.499449\n",
      "MUL  0.00  25.88   8.493590  4.166872\n",
      "CLO  0.04  28.21   8.707332  4.503954\n",
      "BEL  0.13  42.38  13.121007  5.835037\n",
      "MAL  0.67  42.54  15.599079  6.699794\n"
     ]
    }
   ],
   "source": [
    "loc_stats = data.describe().T[['min', 'max', 'mean', 'std']]\n",
    "print(\"Location Statistics:\")\n",
    "print(loc_stats)"
   ]
  },
  {
   "cell_type": "code",
   "execution_count": 445,
   "id": "dfef6c57-d4b5-4dbb-94bf-34eb81a2cd84",
   "metadata": {},
   "outputs": [
    {
     "name": "stdout",
     "output_type": "stream",
     "text": [
      "Day Statistics (sample):\n",
      "             min    max       mean       std\n",
      "Date                                        \n",
      "1961-01-01  9.29  18.50  13.018182  2.808875\n",
      "1961-01-02  6.50  17.54  11.336364  3.188994\n",
      "1961-01-03  6.17  18.50  11.641818  3.681912\n",
      "1961-01-04  1.79  11.75   6.619167  3.198126\n",
      "1961-01-05  6.17  13.33  10.630000  2.445356\n"
     ]
    }
   ],
   "source": [
    "\n",
    "day_stats = data.aggregate(['min', 'max', 'mean', 'std'], axis=1)\n",
    "print(\"Day Statistics (sample):\")\n",
    "print(day_stats.head())\n"
   ]
  },
  {
   "cell_type": "code",
   "execution_count": 449,
   "id": "0391c517-7161-40c5-abb0-4205b2077dcf",
   "metadata": {},
   "outputs": [
    {
     "name": "stdout",
     "output_type": "stream",
     "text": [
      "Average Windspeed in January for each location:\n",
      "RPT    14.847314\n",
      "VAL    12.912900\n",
      "ROS    13.299624\n",
      "KIL     7.199498\n",
      "SHA    11.665601\n",
      "BIR     8.054839\n",
      "DUB    11.819355\n",
      "CLA     9.511569\n",
      "MUL     9.543208\n",
      "CLO    10.053566\n",
      "BEL    14.550520\n",
      "MAL    18.028763\n",
      "dtype: float64\n"
     ]
    }
   ],
   "source": [
    "january_data = data[data.index.month == 1]\n",
    "january_avg = january_data.groupby(january_data.index.year).mean().mean()\n",
    "print(\"Average Windspeed in January for each location:\")\n",
    "print(january_avg)"
   ]
  },
  {
   "cell_type": "code",
   "execution_count": 457,
   "id": "1744a163-7362-4df5-bce0-8c8de7373937",
   "metadata": {},
   "outputs": [
    {
     "name": "stdout",
     "output_type": "stream",
     "text": [
      "Yearly Frequency (sample):\n",
      "                  RPT        VAL        ROS       KIL        SHA       BIR  \\\n",
      "Date                                                                         \n",
      "1961-12-31  12.299583  10.351796  11.362369  6.958227  10.881763  7.729726   \n",
      "1962-12-31  12.246923  10.110438  11.732712  6.960440  10.657918  7.393068   \n",
      "1963-12-31  12.813452  10.836986  12.541151  7.330055  11.724110  8.434712   \n",
      "1964-12-31  12.363661  10.920164  12.104372  6.787787  11.454481  7.570874   \n",
      "1965-12-31  12.451370  11.075534  11.848767  6.858466  11.024795  7.478110   \n",
      "\n",
      "                  DUB        CLA       MUL        CLO        BEL        MAL  \n",
      "Date                                                                         \n",
      "1961-12-31   9.733923   8.858788  8.647652   9.835577  13.502795  13.680773  \n",
      "1962-12-31  11.020712   8.793753  8.316822   9.676247  12.930685  14.323956  \n",
      "1963-12-31  11.075699  10.336548  8.903589  10.224438  13.638877  14.999014  \n",
      "1964-12-31  10.259153   9.467350  7.789016  10.207951  13.740546  14.910301  \n",
      "1965-12-31  10.618712   8.879918  7.907425   9.918082  12.964247  15.591644  \n"
     ]
    }
   ],
   "source": [
    "yearly_data = data.resample('YE').mean()\n",
    "print(\"Yearly Frequency (sample):\")\n",
    "print(yearly_data.head())"
   ]
  },
  {
   "cell_type": "code",
   "execution_count": 461,
   "id": "0e1ed738-6d1f-4790-a227-20105a46eef5",
   "metadata": {},
   "outputs": [
    {
     "name": "stdout",
     "output_type": "stream",
     "text": [
      "\n",
      "Monthly Frequency (sample):\n",
      "                  RPT        VAL        ROS       KIL        SHA        BIR  \\\n",
      "Date                                                                          \n",
      "1961-01-31  14.841333  11.988333  13.431613  7.736774  11.072759   8.588065   \n",
      "1961-02-28  16.269286  14.975357  14.441481  9.230741  13.852143  10.937500   \n",
      "1961-03-31  10.890000  11.296452  10.752903  7.284000  10.509355   8.866774   \n",
      "1961-04-30  10.722667   9.427667   9.998000  5.830667   8.435000   6.495000   \n",
      "1961-05-31   9.860968   8.850000  10.818065  5.905333   9.490323   6.574839   \n",
      "\n",
      "                  DUB        CLA        MUL        CLO        BEL        MAL  \n",
      "Date                                                                          \n",
      "1961-01-31  11.184839   9.245333   9.085806  10.107419  13.880968  14.703226  \n",
      "1961-02-28  11.890714  11.846071  11.821429  12.714286  18.583214  15.411786  \n",
      "1961-03-31   9.644194   9.829677  10.294138  11.251935  16.410968  15.720000  \n",
      "1961-04-30   6.925333   7.094667   7.342333   7.237000  11.147333  10.278333  \n",
      "1961-05-31   7.604000   8.177097   8.039355   8.499355  11.900323  12.011613  \n"
     ]
    }
   ],
   "source": [
    "monthly_data = data.resample('ME').mean()\n",
    "print(\"\\nMonthly Frequency (sample):\")\n",
    "print(monthly_data.head())"
   ]
  },
  {
   "cell_type": "code",
   "execution_count": 465,
   "id": "8d338715-8512-4a1c-8196-cbfa2cc40b91",
   "metadata": {},
   "outputs": [
    {
     "name": "stdout",
     "output_type": "stream",
     "text": [
      "\n",
      "Weekly Frequency (sample):\n",
      "                  RPT        VAL        ROS        KIL        SHA        BIR  \\\n",
      "Date                                                                           \n",
      "1961-01-01  15.040000  14.960000  13.170000   9.290000        NaN   9.870000   \n",
      "1961-01-08  13.541429  11.486667  10.487143   6.417143   9.474286   6.435714   \n",
      "1961-01-15  12.468571   8.967143  11.958571   4.630000   7.351429   5.072857   \n",
      "1961-01-22  13.204286   9.862857  12.982857   6.328571   8.966667   7.417143   \n",
      "1961-01-29  19.880000  16.141429  18.225714  12.720000  17.432857  14.828571   \n",
      "\n",
      "                  DUB        CLA        MUL        CLO        BEL        MAL  \n",
      "Date                                                                          \n",
      "1961-01-01  13.670000  10.250000  10.830000  12.580000  18.500000  15.040000  \n",
      "1961-01-08  11.061429   6.616667   8.434286   8.497143  12.481429  13.238571  \n",
      "1961-01-15   7.535714   6.820000   5.712857   7.571429  11.125714  11.024286  \n",
      "1961-01-22   9.257143   7.875714   7.145714   8.124286   9.821429  11.434286  \n",
      "1961-01-29  15.528571  15.160000  14.480000  15.640000  20.930000  22.530000  \n"
     ]
    }
   ],
   "source": [
    "weekly_data = data.resample('W').mean()\n",
    "print(\"\\nWeekly Frequency (sample):\")\n",
    "print(weekly_data.head())"
   ]
  },
  {
   "cell_type": "code",
   "execution_count": 467,
   "id": "ef7011b5-002a-4206-8d40-7be85cf7aa67",
   "metadata": {},
   "outputs": [
    {
     "name": "stdout",
     "output_type": "stream",
     "text": [
      "\n",
      "Weekly Statistics for first 52 weeks:\n",
      "              RPT                                VAL                    \\\n",
      "              min    max       mean       std    min    max       mean   \n",
      "Date                                                                     \n",
      "1961-01-02  14.71  15.04  14.875000  0.233345  14.96  14.96  14.960000   \n",
      "1961-01-09  10.58  18.50  13.237143  2.596592   6.63  16.88  11.392857   \n",
      "1961-01-16   9.04  19.75  13.017143  3.858751   3.54  12.08   9.027143   \n",
      "1961-01-23   4.92  19.83  13.221429  5.349631   3.42  14.37   9.678571   \n",
      "1961-01-30  12.21  25.04  19.158333  5.499583  11.17  23.91  16.350000   \n",
      "1961-02-06  10.58  24.50  18.582857  5.499102   9.46  24.21  16.792857   \n",
      "1961-02-13  16.00  24.54  19.398571  3.198809  11.54  21.42  16.267143   \n",
      "1961-02-20   6.04  17.08  13.492857  4.032186  11.08  20.17  13.860000   \n",
      "1961-02-27   7.79  25.80  15.215714  7.024701   7.08  21.50  13.952857   \n",
      "1961-03-06   4.88  13.33  11.227143  2.931380   8.08  17.00  12.195714   \n",
      "1961-03-13   6.46  14.79  10.431667  3.036837   8.33  16.96  12.044286   \n",
      "1961-03-20   4.92  16.88  12.274286  3.902264   9.46  15.54  13.368571   \n",
      "1961-03-27   5.88  15.00   8.442857  3.306210   2.58  11.63   7.400000   \n",
      "1961-04-03   7.62  18.25  12.101429  4.777361   4.25  16.29   9.585714   \n",
      "1961-04-10   4.50  18.12  10.601429  4.860691   4.83  14.62  10.111429   \n",
      "1961-04-17   4.00  15.50   8.715714  4.221259   3.71  12.25   7.840000   \n",
      "1961-04-24   8.17  21.09  13.412857  4.548409   5.66  15.41  11.057143   \n",
      "1961-05-01   4.08  16.29  11.021429  4.840032   6.50  14.46  10.632857   \n",
      "1961-05-08   9.87  23.00  14.927143  5.108293  10.08  19.79  13.427143   \n",
      "1961-05-15   3.54  11.00   7.320000  2.738229   3.92  15.12   7.832857   \n",
      "1961-05-22   4.88  15.04   7.744286  3.639454   3.58  10.17   5.590000   \n",
      "1961-05-29   4.96  12.04   8.982857  2.935238   3.96  12.50   7.817143   \n",
      "1961-06-05   7.00  15.92  10.255714  3.061840   4.75  11.54   8.102857   \n",
      "1961-06-12   8.29  14.42  10.584286  2.305847   6.83   9.96   8.355714   \n",
      "1961-06-19   6.13  14.33  10.524286  3.036099   4.12  14.54   9.465714   \n",
      "1961-06-26   4.00  13.13   7.947143  2.944439   3.25  11.42   6.828571   \n",
      "1961-07-03   7.21  15.34  10.605000  3.148706   6.34  14.37   9.362857   \n",
      "1961-07-10   7.29  17.50  10.757143  3.428827   3.75  10.75   6.832857   \n",
      "1961-07-17   4.25  22.50  16.054286  6.419439   3.08  19.29  12.834286   \n",
      "1961-07-24   3.04   7.00   4.595714  1.490580   2.92   6.79   4.477143   \n",
      "1961-07-31   6.13  16.08  10.657143  4.068750   4.83  13.79   8.742857   \n",
      "1961-08-07   2.88  16.08  10.185714  4.134585   4.42  15.79   8.465714   \n",
      "1961-08-14   6.63  16.42  12.315000  3.351697   6.71  10.88   8.864286   \n",
      "1961-08-21  13.13  18.91  15.855714  2.473654   7.25  14.58  11.094286   \n",
      "1961-08-28   7.67  14.33  11.707143  2.366240   6.87  22.00  12.490000   \n",
      "1961-09-04   3.63  14.46   7.738571  3.904247   1.13  16.04   6.112857   \n",
      "1961-09-11   5.00  17.62  10.981429  4.961802   3.92  13.59   9.567143   \n",
      "1961-09-18   5.33  28.75  17.142857  7.698287   4.21  22.08  13.838571   \n",
      "1961-09-25   6.92  10.34   8.584286  1.379080   2.92  13.62   8.398571   \n",
      "1961-10-02  11.34  23.21  16.580000  3.958316   6.96  13.62  10.653333   \n",
      "1961-10-09   3.13  17.12  11.682857  5.958450   3.63  16.96   9.334286   \n",
      "1961-10-16   3.71  14.46  10.125000  3.867985   6.13  13.25   9.728571   \n",
      "1961-10-23  10.46  28.62  20.212857  7.330020   3.75  19.46  13.755714   \n",
      "1961-10-30   4.33  26.42  14.672857  8.168949   2.75  21.25  10.910000   \n",
      "1961-11-06   5.88  15.79  11.362857  3.564135   3.96  13.46   9.178571   \n",
      "1961-11-13   5.46  16.08  11.434286  4.099930   5.50  13.00   8.714286   \n",
      "1961-11-20   7.50  13.67  10.202857  2.096853   3.29  10.67   6.564286   \n",
      "1961-11-27   5.75  14.29   8.738571  3.149039   4.33  11.79   7.534286   \n",
      "1961-12-04   8.58  23.75  14.738571  6.403073   5.96  18.71  12.204286   \n",
      "1961-12-11  10.83  23.71  17.150000  4.638470   9.21  21.37  14.274286   \n",
      "1961-12-18   9.29  18.05  13.675714  3.059356   8.63  17.62  12.794286   \n",
      "1961-12-25  11.46  24.41  16.815714  4.856188   9.79  16.13  11.780000   \n",
      "\n",
      "                        ROS         ...        CLO              BEL         \\\n",
      "                 std    min    max  ...       mean       std    min    max   \n",
      "Date                                ...                                      \n",
      "1961-01-02       NaN  10.83  13.17  ...  11.125000  2.057681  17.54  18.50   \n",
      "1961-01-09  3.613939   7.62  12.33  ...   8.412857  1.651027   5.46  16.62   \n",
      "1961-01-16  3.194035   7.08  19.50  ...   7.321429  4.029758   5.25  20.71   \n",
      "1961-01-23  3.790758   7.29  20.79  ...   8.958571  5.119787   6.50  15.92   \n",
      "1961-01-30  4.901779  10.92  25.84  ...  15.467143  3.872272  14.04  27.71   \n",
      "1961-02-06  5.174961   9.04  20.62  ...   9.817143  3.322493   9.17  26.38   \n",
      "1961-02-13  3.414873  13.67  21.34  ...  14.742857  1.925441  15.21  28.62   \n",
      "1961-02-20  3.186482   6.13  17.25  ...  12.757143  2.271811  14.09  29.63   \n",
      "1961-02-27  5.030022   6.08  22.42  ...  12.957143  4.867617   9.59  23.21   \n",
      "1961-03-06  3.375396   7.54  13.67  ...  11.287143  3.160679  10.21  23.45   \n",
      "1961-03-13  2.854896   8.00  16.38  ...  11.374286  2.785449  12.29  22.71   \n",
      "1961-03-20  2.515866   5.25  13.96  ...  11.960000  3.206795  11.29  22.79   \n",
      "1961-03-27  3.941755   4.79  15.63  ...  10.522857  2.760729   7.21  21.34   \n",
      "1961-04-03  4.071498   5.09  15.67  ...   9.322857  3.557802  10.71  18.63   \n",
      "1961-04-10  3.566966   8.25  18.29  ...   7.184286  2.401457   7.62  17.16   \n",
      "1961-04-17  2.856525   3.33  15.79  ...   6.071429  2.269474   5.75  16.17   \n",
      "1961-04-24  3.797344   6.04  17.00  ...  10.092857  2.456188   6.75  19.21   \n",
      "1961-05-01  3.113512   2.54  15.37  ...   6.452857  3.157730   5.13  18.63   \n",
      "1961-05-08  4.030586   8.42  21.21  ...  12.728571  4.220341   4.79  28.08   \n",
      "1961-05-15  4.113914   4.63  11.71  ...   6.155714  3.160991   6.54  11.12   \n",
      "1961-05-22  2.505410   5.33  15.96  ...   6.988571  2.297553   7.29  12.00   \n",
      "1961-05-29  2.996941   3.58  20.96  ...   8.488571  2.859105   6.13  14.33   \n",
      "1961-06-05  2.383567   6.83  12.25  ...   8.875714  1.858753   8.71  17.00   \n",
      "1961-06-12  1.174746   6.04  13.46  ...   7.812857  1.899629   5.37  13.25   \n",
      "1961-06-19  3.600860   6.50  15.50  ...  10.071429  3.591432   7.71  25.25   \n",
      "1961-06-26  2.996628   5.13  10.37  ...  11.238571  2.297023  10.83  19.08   \n",
      "1961-07-03  2.825312   7.71  12.17  ...  11.232857  2.905373   6.96  21.87   \n",
      "1961-07-10  2.287376   7.41  14.92  ...   8.755714  3.121591   5.04  15.34   \n",
      "1961-07-17  5.207328   5.46  14.29  ...  10.638571  2.385801   6.17  20.25   \n",
      "1961-07-24  1.302225   4.08  12.67  ...   5.655714  1.301420   4.21  10.13   \n",
      "1961-07-31  2.869325   6.67  15.67  ...   9.558571  4.247283   6.17  22.17   \n",
      "1961-08-07  4.268617   5.54  15.59  ...   8.975714  2.870249   7.92  18.54   \n",
      "1961-08-14  1.610899   6.00  11.63  ...   8.436667  2.926853   5.88  15.37   \n",
      "1961-08-21  2.951434   9.17  14.62  ...  12.607143  2.991314   9.59  21.92   \n",
      "1961-08-28  5.072961   9.50  17.83  ...  12.144286  3.644850   5.75  23.38   \n",
      "1961-09-04  4.891522   2.42  12.75  ...   7.328571  4.347031   4.79  24.71   \n",
      "1961-09-11  3.136855   3.63  14.88  ...   8.697143  2.631474   5.66  15.83   \n",
      "1961-09-18  6.302059   8.12  26.50  ...  13.774286  5.771808   7.21  23.91   \n",
      "1961-09-25  3.762886   5.33  12.17  ...   7.768571  3.285714   4.54  20.96   \n",
      "1961-10-02  2.875988   7.87  17.58  ...  11.714286  3.878908   7.58  21.37   \n",
      "1961-10-09  5.275038   4.96  20.96  ...   7.390000  4.018275   4.79  17.83   \n",
      "1961-10-16  2.700188   4.21  11.46  ...   9.881429  3.799427  12.46  20.46   \n",
      "1961-10-23  6.034633  10.37  22.63  ...  17.151429  5.685870  10.88  24.71   \n",
      "1961-10-30  6.770118   4.79  23.09  ...  12.120000  5.911153   8.50  27.29   \n",
      "1961-11-06  4.152334   4.83  14.33  ...  11.321429  3.121770  10.29  20.17   \n",
      "1961-11-13  2.735586   3.83  32.71  ...   7.261429  4.056519   6.13  11.12   \n",
      "1961-11-20  2.724591   6.46  26.63  ...   5.150000  2.889677   0.71   9.59   \n",
      "1961-11-27  3.025728   4.42  10.96  ...   8.977143  3.540841   5.50  20.46   \n",
      "1961-12-04  4.906560   8.00  19.92  ...   9.464286  3.861661   7.79  21.79   \n",
      "1961-12-11  4.055527   9.71  20.54  ...  12.438571  4.570188  10.71  22.83   \n",
      "1961-12-18  3.390157   8.08  16.66  ...   9.125714  4.356030   5.50  20.62   \n",
      "1961-12-25  2.311118   8.63  22.13  ...   8.505714  4.344824   5.29  17.67   \n",
      "\n",
      "                                   MAL                              \n",
      "                 mean       std    min    max       mean       std  \n",
      "Date                                                                \n",
      "1961-01-02  18.020000  0.678823  13.83  15.04  14.435000  0.855599  \n",
      "1961-01-09  11.838571  3.770943  10.88  16.46  13.458571  1.945803  \n",
      "1961-01-16  11.125714  5.552215   5.17  16.92  10.120000  4.309625  \n",
      "1961-01-23  10.071429  3.932825   6.79  20.58  13.082857  5.269601  \n",
      "1961-01-30  21.514286  4.601144  17.50  27.63  22.340000  4.016300  \n",
      "1961-02-06  15.084286  6.159131   7.17  21.84  12.305714  5.106345  \n",
      "1961-02-13  22.152857  4.541596  17.04  21.09  18.845714  1.440565  \n",
      "1961-02-20  19.234286  5.241981  10.96  22.58  15.512857  4.719554  \n",
      "1961-02-27  17.005714  5.232262   6.67  23.87  15.090000  6.203754  \n",
      "1961-03-06  16.444286  5.041987   5.54  16.38  11.951667  3.988079  \n",
      "1961-03-13  18.057143  3.366000   8.75  22.54  16.325714  4.384913  \n",
      "1961-03-20  18.577143  4.223307  11.34  22.95  16.542857  4.627943  \n",
      "1961-03-27  13.025714  5.020946  13.13  22.50  17.312857  3.572360  \n",
      "1961-04-03  14.024286  3.396100   7.17  19.58  13.048571  4.197124  \n",
      "1961-04-10  11.218571  3.514064   7.21  15.34  11.638571  2.451377  \n",
      "1961-04-17   9.828571  3.548828   5.66  12.87   8.118571  2.534367  \n",
      "1961-04-24  13.595714  4.756903   4.96  20.46  12.642857  5.745835  \n",
      "1961-05-01  10.971429  4.482479   2.67  17.50   9.017143  5.191255  \n",
      "1961-05-08  17.552857  8.004173   3.83  26.58  16.740000  8.670898  \n",
      "1961-05-15   8.702857  1.839816   3.33  12.33   7.828571  3.543513  \n",
      "1961-05-22   9.850000  1.638180   5.91  14.96  10.970000  3.166544  \n",
      "1961-05-29  10.994286  2.858210   8.00  17.96  12.702857  4.448201  \n",
      "1961-06-05  12.960000  2.951226  10.63  15.71  12.787143  1.753166  \n",
      "1961-06-12   8.880000  3.063663   5.96  19.83  12.114286  4.936844  \n",
      "1961-06-19  16.155714  5.600226   6.13  24.71  15.817143  6.045593  \n",
      "1961-06-26  14.071429  2.806442  11.63  21.50  16.660000  3.774524  \n",
      "1961-07-03  15.904286  6.404261   8.50  21.29  13.743333  5.191060  \n",
      "1961-07-10  10.024286  3.518716   5.96  19.67  13.797143  4.462341  \n",
      "1961-07-17  13.681429  4.658295   9.13  21.96  12.977143  4.386649  \n",
      "1961-07-24   7.964286  2.041616   5.41  10.92   7.987143  2.263925  \n",
      "1961-07-31  12.401429  6.015719   9.25  25.37  14.267143  6.099319  \n",
      "1961-08-07  12.118571  4.395200   5.88  20.25  13.218571  5.196728  \n",
      "1961-08-14  11.725714  3.307234   6.83  15.16  10.833333  3.051869  \n",
      "1961-08-21  15.614286  4.557327  13.04  24.30  17.435714  4.180960  \n",
      "1961-08-28  16.328571  6.767278   8.29  20.62  15.700000  4.261346  \n",
      "1961-09-04  11.472857  7.505822   3.37  22.54   9.105714  6.302512  \n",
      "1961-09-11  11.915714  3.626720   5.79  20.25  12.648571  5.096127  \n",
      "1961-09-18  18.920000  6.299913   9.21  33.09  18.204286  7.226080  \n",
      "1961-09-25  12.870000  5.912343   5.25  16.21  10.814286  3.909467  \n",
      "1961-10-02  14.410000  5.651569   4.04  19.62  13.825714  5.194436  \n",
      "1961-10-09   8.947143  4.773041   4.83  16.25  10.440000  4.223482  \n",
      "1961-10-16  16.028571  3.546268  10.75  24.62  16.944286  5.206006  \n",
      "1961-10-23  17.864286  5.901237  13.46  33.45  23.695714  7.478050  \n",
      "1961-10-30  14.872857  6.493601   9.83  30.88  17.778571  7.917145  \n",
      "1961-11-06  15.655714  4.240487  13.37  23.58  18.178571  4.341065  \n",
      "1961-11-13   8.732857  2.062488   5.71  15.54  10.822857  3.662029  \n",
      "1961-11-20   5.655714  3.446766   2.00   8.71   5.088571  2.433389  \n",
      "1961-11-27  11.457143  5.738358   4.25  22.58  12.328571  6.846596  \n",
      "1961-12-04  13.791429  6.029509  11.17  21.29  16.630000  3.669600  \n",
      "1961-12-11  16.124286  4.894868   7.58  29.33  16.117143  7.294477  \n",
      "1961-12-18  12.684286  6.341117   5.91  21.12  12.868571  6.233125  \n",
      "1961-12-25  11.012857  4.825110   2.62  16.62   9.265714  5.308593  \n",
      "\n",
      "[52 rows x 48 columns]\n"
     ]
    }
   ],
   "source": [
    "weekly_stats = data.resample('W-MON').agg(['min', 'max', 'mean', 'std']).iloc[:52]\n",
    "print(\"\\nWeekly Statistics for first 52 weeks:\")\n",
    "print(weekly_stats)"
   ]
  },
  {
   "cell_type": "markdown",
   "id": "f4001f82-d697-42a3-a229-8df8bc40d73c",
   "metadata": {},
   "source": [
    "## Question 5"
   ]
  },
  {
   "cell_type": "code",
   "execution_count": 470,
   "id": "7216c005-0e0d-4bd8-8dbe-3a90a448739e",
   "metadata": {},
   "outputs": [],
   "source": [
    "import pandas as pd"
   ]
  },
  {
   "cell_type": "code",
   "execution_count": 474,
   "id": "73a68223-6f10-48bb-b10c-e75c51bec381",
   "metadata": {},
   "outputs": [
    {
     "name": "stdout",
     "output_type": "stream",
     "text": [
      "The data looks like this:\n",
      "   order_id  quantity                              item_name  \\\n",
      "0         1         1           Chips and Fresh Tomato Salsa   \n",
      "1         1         1                                   Izze   \n",
      "2         1         1                       Nantucket Nectar   \n",
      "3         1         1  Chips and Tomatillo-Green Chili Salsa   \n",
      "4         2         2                           Chicken Bowl   \n",
      "\n",
      "                                  choice_description item_price  \n",
      "0                                                NaN     $2.39   \n",
      "1                                       [Clementine]     $3.39   \n",
      "2                                            [Apple]     $3.39   \n",
      "3                                                NaN     $2.39   \n",
      "4  [Tomatillo-Red Chili Salsa (Hot), [Black Beans...    $16.98   \n"
     ]
    }
   ],
   "source": [
    "url = 'https://raw.githubusercontent.com/justmarkham/DAT8/master/data/chipotle.tsv'\n",
    "chipo = pd.read_csv(url, sep='\\t')\n",
    "print(\"The data looks like this:\")\n",
    "print(chipo.head())"
   ]
  },
  {
   "cell_type": "code",
   "execution_count": 476,
   "id": "246f599b-0e3d-4a4f-954d-40ef930d690e",
   "metadata": {},
   "outputs": [
    {
     "name": "stdout",
     "output_type": "stream",
     "text": [
      "   order_id  quantity                              item_name  \\\n",
      "0         1         1           Chips and Fresh Tomato Salsa   \n",
      "1         1         1                                   Izze   \n",
      "2         1         1                       Nantucket Nectar   \n",
      "3         1         1  Chips and Tomatillo-Green Chili Salsa   \n",
      "4         2         2                           Chicken Bowl   \n",
      "5         3         1                           Chicken Bowl   \n",
      "6         3         1                          Side of Chips   \n",
      "7         4         1                          Steak Burrito   \n",
      "8         4         1                       Steak Soft Tacos   \n",
      "9         5         1                          Steak Burrito   \n",
      "\n",
      "                                  choice_description item_price  \n",
      "0                                                NaN     $2.39   \n",
      "1                                       [Clementine]     $3.39   \n",
      "2                                            [Apple]     $3.39   \n",
      "3                                                NaN     $2.39   \n",
      "4  [Tomatillo-Red Chili Salsa (Hot), [Black Beans...    $16.98   \n",
      "5  [Fresh Tomato Salsa (Mild), [Rice, Cheese, Sou...    $10.98   \n",
      "6                                                NaN     $1.69   \n",
      "7  [Tomatillo Red Chili Salsa, [Fajita Vegetables...    $11.75   \n",
      "8  [Tomatillo Green Chili Salsa, [Pinto Beans, Ch...     $9.25   \n",
      "9  [Fresh Tomato Salsa, [Rice, Black Beans, Pinto...     $9.25   \n"
     ]
    }
   ],
   "source": [
    "print(chipo.head(10))"
   ]
  },
  {
   "cell_type": "code",
   "execution_count": 478,
   "id": "8ca34764-44c9-4bbe-8b92-c37ace4fbf26",
   "metadata": {},
   "outputs": [
    {
     "name": "stdout",
     "output_type": "stream",
     "text": [
      "Number of observations: 4622\n"
     ]
    }
   ],
   "source": [
    "print(\"Number of observations:\", chipo.shape[0])"
   ]
  },
  {
   "cell_type": "code",
   "execution_count": 480,
   "id": "66380dce-f901-48e8-b6b3-bbc0643d0f39",
   "metadata": {},
   "outputs": [
    {
     "name": "stdout",
     "output_type": "stream",
     "text": [
      "Number of columns: 5\n"
     ]
    }
   ],
   "source": [
    "print(\"Number of columns:\", chipo.shape[1])"
   ]
  },
  {
   "cell_type": "code",
   "execution_count": 482,
   "id": "d67485e2-0259-43c3-bc80-eb2854ae998b",
   "metadata": {},
   "outputs": [
    {
     "name": "stdout",
     "output_type": "stream",
     "text": [
      "Column names: Index(['order_id', 'quantity', 'item_name', 'choice_description',\n",
      "       'item_price'],\n",
      "      dtype='object')\n"
     ]
    }
   ],
   "source": [
    "print(\"Column names:\", chipo.columns)"
   ]
  },
  {
   "cell_type": "code",
   "execution_count": 484,
   "id": "42b82a9c-252b-4823-8096-5bf29e222872",
   "metadata": {},
   "outputs": [
    {
     "name": "stdout",
     "output_type": "stream",
     "text": [
      "Index: RangeIndex(start=0, stop=4622, step=1)\n"
     ]
    }
   ],
   "source": [
    "print(\"Index:\", chipo.index)"
   ]
  },
  {
   "cell_type": "code",
   "execution_count": 486,
   "id": "03d54cd3-9c05-4da5-a6c0-3cef3b809cc7",
   "metadata": {},
   "outputs": [
    {
     "name": "stdout",
     "output_type": "stream",
     "text": [
      "Most-ordered item: Chicken Bowl\n"
     ]
    }
   ],
   "source": [
    "most_ordered_item = chipo.groupby('item_name').sum().sort_values('quantity', ascending=False).head(1)\n",
    "print(\"Most-ordered item:\", most_ordered_item.index[0])"
   ]
  },
  {
   "cell_type": "code",
   "execution_count": 488,
   "id": "66ae3711-dedd-4c13-8b3b-22d8bb3e2e66",
   "metadata": {},
   "outputs": [
    {
     "name": "stdout",
     "output_type": "stream",
     "text": [
      "Quantity of the most-ordered item: 761\n"
     ]
    }
   ],
   "source": [
    "print(\"Quantity of the most-ordered item:\", most_ordered_item['quantity'].values[0])"
   ]
  },
  {
   "cell_type": "code",
   "execution_count": 506,
   "id": "a0234093-7c43-4536-a2a3-48e97a0b5835",
   "metadata": {},
   "outputs": [
    {
     "name": "stdout",
     "output_type": "stream",
     "text": [
      "Most ordered item in choice_description: [Diet Coke]\n"
     ]
    }
   ],
   "source": [
    "most_ordered_choice_desc = chipo.groupby('choice_description').sum().sort_values('quantity', ascending=False).head(1)\n",
    "print(\"Most ordered item in choice_description:\", most_ordered_choice_desc.index[0])"
   ]
  },
  {
   "cell_type": "code",
   "execution_count": 508,
   "id": "fd3b773d-2777-4581-9da8-2603050c048c",
   "metadata": {},
   "outputs": [
    {
     "name": "stdout",
     "output_type": "stream",
     "text": [
      "Total items ordered: 4972\n"
     ]
    }
   ],
   "source": [
    "total_items_ordered = chipo['quantity'].sum()\n",
    "print(\"Total items ordered:\", total_items_ordered)"
   ]
  },
  {
   "cell_type": "code",
   "execution_count": 534,
   "id": "87e24eaa-0e98-437c-9d39-d53b4bb86523",
   "metadata": {},
   "outputs": [
    {
     "name": "stdout",
     "output_type": "stream",
     "text": [
      "Item price type after conversion: float64\n",
      "Item price type after lambda conversion: float64\n"
     ]
    }
   ],
   "source": [
    "chipo['item_price'] = chipo['item_price'].apply(lambda x: float(x.strip('$')) if isinstance(x, str) else x)\n",
    "print(\"Item price type after conversion:\", chipo['item_price'].dtype)\n",
    "chipo['item_price'] = chipo['item_price'].apply(lambda x: float(x))\n",
    "print(\"Item price type after lambda conversion:\", chipo['item_price'].dtype)"
   ]
  },
  {
   "cell_type": "code",
   "execution_count": 516,
   "id": "c65442b5-9747-41d5-985a-4634fe278331",
   "metadata": {},
   "outputs": [
    {
     "name": "stdout",
     "output_type": "stream",
     "text": [
      "Revenue for the period: 39237.02\n"
     ]
    }
   ],
   "source": [
    "revenue = (chipo['item_price'] * chipo['quantity']).sum()\n",
    "print(\"Revenue for the period:\", revenue)"
   ]
  },
  {
   "cell_type": "code",
   "execution_count": 526,
   "id": "dae0cb32-470b-4459-a6be-563f4d8409a7",
   "metadata": {},
   "outputs": [
    {
     "name": "stdout",
     "output_type": "stream",
     "text": [
      "Number of orders: 1834\n"
     ]
    }
   ],
   "source": [
    "num_orders = chipo['order_id'].nunique()\n",
    "print(\"Number of orders:\", num_orders)"
   ]
  },
  {
   "cell_type": "code",
   "execution_count": 528,
   "id": "78964c22-28b9-437d-ab0a-9fa0b0557087",
   "metadata": {},
   "outputs": [
    {
     "name": "stdout",
     "output_type": "stream",
     "text": [
      "Average revenue per order: 21.39423118865867\n"
     ]
    }
   ],
   "source": [
    "avg_revenue_per_order = revenue / num_orders\n",
    "print(\"Average revenue per order:\", avg_revenue_per_order)"
   ]
  },
  {
   "cell_type": "code",
   "execution_count": 530,
   "id": "5ef66767-2c05-466d-ada5-53c96fa30557",
   "metadata": {},
   "outputs": [
    {
     "name": "stdout",
     "output_type": "stream",
     "text": [
      "Number of different items sold: 50\n"
     ]
    }
   ],
   "source": [
    "different_items = chipo['item_name'].nunique()\n",
    "print(\"Number of different items sold:\", different_items)"
   ]
  },
  {
   "cell_type": "markdown",
   "id": "76ff4515-7909-460b-81c0-0302cec89489",
   "metadata": {},
   "source": [
    "## Question 6"
   ]
  },
  {
   "cell_type": "markdown",
   "id": "c8e1ac58-84c6-4fbe-b88e-0f44bc227435",
   "metadata": {},
   "source": [
    "###  line plot showing the number of marriages and divorces per capita"
   ]
  },
  {
   "cell_type": "code",
   "execution_count": 603,
   "id": "ad14236e-87b9-45cf-af1b-ba1cd9331d0b",
   "metadata": {},
   "outputs": [
    {
     "data": {
      "image/png": "[encoded data removed]",
      "text/plain": [
       "<Figure size 1000x600 with 1 Axes>"
      ]
     },
     "metadata": {},
     "output_type": "display_data"
    }
   ],
   "source": [
    "import pandas as pd\n",
    "import matplotlib.pyplot as plt\n",
    "data = pd.read_csv('us-marriages-divorces-1867-2014.csv')\n",
    "marriages_data = pd.DataFrame(data)\n",
    "\n",
    "plt.figure(figsize=(10, 6))\n",
    "plt.plot(df['Year'], marriages_data['Marriages_per_1000'], label='marriages per 1000', color='olive')\n",
    "plt.plot(df['Year'], marriages_data['Divorces_per_1000'], label='divorces per 1000', color='teal')\n",
    "\n",
    "plt.xlabel('Year')\n",
    "plt.ylabel('Rate per 1000 People')\n",
    "plt.title('Number of Marriages and Divorces per Capita in the US from 1867 to 1892')\n",
    "plt.legend()\n",
    "\n",
    "plt.grid(True)\n",
    "plt.show()\n"
   ]
  },
  {
   "cell_type": "markdown",
   "id": "44abe7cf-50f7-4905-b973-7cc1eec56198",
   "metadata": {},
   "source": [
    "## Question 7"
   ]
  },
  {
   "cell_type": "code",
   "execution_count": 607,
   "id": "3d15c9dd-2870-4fbd-b169-25c3c6c44297",
   "metadata": {},
   "outputs": [
    {
     "data": {
      "image/png": "[encoded data removed]",
      "text/plain": [
       "<Figure size 1000x600 with 1 Axes>"
      ]
     },
     "metadata": {},
     "output_type": "display_data"
    }
   ],
   "source": [
    "import pandas as pd\n",
    "import matplotlib.pyplot as plt\n",
    "\n",
    "marriages_data_filtered = marriages_data[marriages_data['Year'].isin([1900, 1950, 2000])]\n",
    "\n",
    "fig, ax = plt.subplots(figsize=(10, 6))\n",
    "\n",
    "bar_width_cm = 25  \n",
    "bar_width_inch = bar_width_cm / 2.54  \n",
    "\n",
    "x = marriages_data_filtered['Year']\n",
    "\n",
    "bars_marriages = ax.bar(x - bar_width_inch/2, marriages_data_filtered['Marriages_per_1000'], bar_width_inch, label='Marriages per 1000', color='olive')\n",
    "bars_divorces = ax.bar(x + bar_width_inch/2, marriages_data_filtered['Divorces_per_1000'], bar_width_inch, label='Divorces per 1000', color='teal')\n",
    "\n",
    "for bar in bars_marriages:\n",
    "    yval = bar.get_height()\n",
    "    ax.text(bar.get_x() + bar.get_width()/2, yval + 0.1, f'{yval:.1f}', ha='center', va='bottom')\n",
    "\n",
    "for bar in bars_divorces:\n",
    "    yval = bar.get_height()\n",
    "    ax.text(bar.get_x() + bar.get_width()/2, yval + 0.1, f'{yval:.1f}', ha='center', va='bottom')\n",
    "\n",
    "ax.set_xlabel('Year')\n",
    "ax.set_ylabel('Rate per 1000 People')\n",
    "ax.set_title('Number of Marriages and Divorces per Capita in the US from 1867 to 1892')\n",
    "ax.legend()\n",
    "\n",
    "plt.xticks(x, rotation=45)\n",
    "\n",
    "plt.tight_layout()\n",
    "plt.show()\n"
   ]
  },
  {
   "cell_type": "markdown",
   "id": "24ed8d8d-2677-45a3-ae3c-a1adca18e7d0",
   "metadata": {},
   "source": [
    "## Question 8"
   ]
  },
  {
   "cell_type": "code",
   "execution_count": 617,
   "id": "98113002-d741-4195-ac6b-8cb9b412e8f7",
   "metadata": {},
   "outputs": [
    {
     "data": {
      "image/png": "[encoded data removed]",
      "text/plain": [
       "<Figure size 1000x600 with 1 Axes>"
      ]
     },
     "metadata": {},
     "output_type": "display_data"
    }
   ],
   "source": [
    "import pandas as pd\n",
    "import matplotlib.pyplot as plt\n",
    "\n",
    "data = pd.read_csv('actor_kill_counts.csv')\n",
    "kll_count = pd.DataFrame(data)\n",
    "\n",
    "kill_count_sorted = kll_count.sort_values(by='Count', ascending=False)\n",
    "\n",
    "fig, ax = plt.subplots(figsize=(10, 6))\n",
    "\n",
    "bars = ax.barh(kill_count_sorted['Actor'], kill_count_sorted['Count'], color='salmon')\n",
    "\n",
    "for bar in bars:\n",
    "    ax.text(bar.get_width() + 5, bar.get_y() + bar.get_height() / 2, \n",
    "            f'{bar.get_width()}', va='center', ha='left', color='black')\n",
    "\n",
    "ax.set_xlabel('Kill Count')\n",
    "ax.set_ylabel('Actor')\n",
    "ax.set_title('Deadliest Actors in Hollywood sorted by Kill Count')\n",
    "\n",
    "plt.tight_layout()\n",
    "plt.show()\n"
   ]
  },
  {
   "cell_type": "markdown",
   "id": "b5bce6e0-1d41-43e7-9251-c99b1a8b3020",
   "metadata": {},
   "source": [
    "## Question 9"
   ]
  },
  {
   "cell_type": "code",
   "execution_count": 620,
   "id": "72ada68f-7958-4370-8b26-2dda51ac2598",
   "metadata": {},
   "outputs": [],
   "source": [
    "import pandas as pd\n",
    "import matplotlib.pyplot as plt"
   ]
  },
  {
   "cell_type": "code",
   "execution_count": 626,
   "id": "1eda8e25-7aad-46c3-9e64-1be34ae6b99a",
   "metadata": {},
   "outputs": [
    {
     "data": {
      "image/png": "[encoded data removed]",
      "text/plain": [
       "<Figure size 800x800 with 1 Axes>"
      ]
     },
     "metadata": {},
     "output_type": "display_data"
    }
   ],
   "source": [
    "import pandas as pd\n",
    "import matplotlib.pyplot as plt\n",
    "\n",
    "data = pd.read_csv('roman-emperor-reigns.csv')\n",
    "rome = pd.DataFrame(data)\n",
    "\n",
    "assassinated_count = rome['Cause_of_Death'].str.contains('assassinated', case=False).sum()\n",
    "\n",
    "not_assassinated_count = (~rome['Cause_of_Death'].str.contains('assassinated', case=False)).sum()\n",
    "\n",
    "labels = ['Assassinated', 'Not Assassinated']\n",
    "sizes = [assassinated_count, not_assassinated_count]\n",
    "colors = ['salmon', 'lightgreen']\n",
    "\n",
    "fig, ax = plt.subplots(figsize=(8, 8))\n",
    "ax.pie(sizes, labels=labels, autopct='%1.1f%%', colors=colors, startangle=90, wedgeprops={'edgecolor': 'black'})\n",
    "\n",
    "ax.axis('equal')\n",
    "\n",
    "plt.title('Fraction of Roman Emperors Assassinated')\n",
    "\n",
    "plt.tight_layout()\n",
    "plt.show()\n"
   ]
  },
  {
   "cell_type": "markdown",
   "id": "1ec12e2d-a206-4fce-8117-5eba40b4a548",
   "metadata": {},
   "source": [
    "## Question 10"
   ]
  },
  {
   "cell_type": "code",
   "execution_count": 635,
   "id": "426306fd-456f-4a3e-b50a-6b7e2c3c50d7",
   "metadata": {},
   "outputs": [
    {
     "data": {
      "image/png": "[encoded data removed]",
      "text/plain": [
       "<Figure size 1000x600 with 2 Axes>"
      ]
     },
     "metadata": {},
     "output_type": "display_data"
    }
   ],
   "source": [
    "import matplotlib.pyplot as plt\n",
    "import pandas as pd\n",
    "\n",
    "data = pd.read_csv('arcade-revenue-vs-cs-doctorates.csv')\n",
    "revenue = pd.DataFrame(data)\n",
    "\n",
    "plt.figure(figsize=(10, 6))\n",
    "plt.scatter(revenue['Total Arcade Revenue (billions)'], revenue['Computer Science Doctorates Awarded (US)'], \n",
    "            c=revenue['Year'], cmap='viridis', s=100)\n",
    "\n",
    "plt.xlabel('Arcade Revenue (in billions)')\n",
    "plt.ylabel('Number of Computer Science PhDs Awarded')\n",
    "plt.title('Arcade Revenue vs. PhDs Awarded in the U.S. (2000-2009)')\n",
    "\n",
    "plt.colorbar(label='Year')\n",
    "\n",
    "plt.tight_layout()\n",
    "plt.show()\n"
   ]
  }
 ],
 "metadata": {
  "kernelspec": {
   "display_name": "Python 3 (ipykernel)",
   "language": "python",
   "name": "python3"
  },
  "language_info": {
   "codemirror_mode": {
    "name": "ipython",
    "version": 3
   },
   "file_extension": ".py",
   "mimetype": "text/x-python",
   "name": "python",
   "nbconvert_exporter": "python",
   "pygments_lexer": "ipython3",
   "version": "3.12.4"
  }
 },
 "nbformat": 4,
 "nbformat_minor": 5
}
